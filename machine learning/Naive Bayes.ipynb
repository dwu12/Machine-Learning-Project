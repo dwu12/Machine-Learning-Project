{
 "cells": [
  {
   "cell_type": "markdown",
   "id": "58cea56f",
   "metadata": {},
   "source": [
    "p(h|e) = p(e|h) p(h)  / p(e)"
   ]
  },
  {
   "cell_type": "code",
   "execution_count": 1,
   "id": "63abc6e8",
   "metadata": {},
   "outputs": [],
   "source": [
    "import numpy as np"
   ]
  },
  {
   "cell_type": "code",
   "execution_count": 2,
   "id": "fe4cfa43",
   "metadata": {},
   "outputs": [],
   "source": [
    "class NaiveBayes():\n",
    "    def __init__(self, X, y):\n",
    "        self.num_examples, self.num_features = X.shape\n",
    "        slef.num_classes = len(np.unique(y))\n",
    "        self.eps = 1e-6\n",
    "    \n",
    "    def fit(self, X):\n",
    "        self.classes_mean = {}\n",
    "        self.classes_var = {}\n",
    "        self.classes_prior = {}\n",
    "        \n",
    "        for c in range(self.num_classes): # 0, 1, 2, ..\n",
    "            X_c = X[y==c]\n",
    "            self.classes_mean[str[c]] = np.mean(X_c, axis = 0)\n",
    "            self.classes_var[str[c]] = np.var(X_c, axis = 0)\n",
    "            self.classes_prior[str[c]] = X_c.shape[0] / self.num_examples\n",
    "            \n",
    "    def predict(self, X):\n",
    "        probs = np.zeros((self.num_examples, self.num_classes))\n",
    "        \n",
    "        for c in range(self.num_classes):\n",
    "            prior = self.classes_prior[str[c]]\n",
    "\n",
    "            probs_c = self.density_function(X, self.classes_mean[str[c]], self.classes_var[str[c]])\n",
    "            probs[:, c] = probs_c + np.log(prior)\n",
    "            \n",
    "        return np.argmax(probs, 1)\n",
    "            \n",
    "    def density_function(self, x, mean, sigma):\n",
    "        # calcuate probability from gaussian density function\n",
    "        const = -self.num_features / 2 * np.log(2 * np.pi) - 0.5 * np.sum(np.log(sigma + self.eps))\n",
    "        probs = 0.5 * np.sum(np.power(x-mean,2) / (sigma + self.eps), 1)\n",
    "        \n",
    "        return const - probs\n",
    "    "
   ]
  },
  {
   "cell_type": "code",
   "execution_count": null,
   "id": "48d412cb",
   "metadata": {},
   "outputs": [],
   "source": []
  }
 ],
 "metadata": {
  "kernelspec": {
   "display_name": "Python 3 (ipykernel)",
   "language": "python",
   "name": "python3"
  },
  "language_info": {
   "codemirror_mode": {
    "name": "ipython",
    "version": 3
   },
   "file_extension": ".py",
   "mimetype": "text/x-python",
   "name": "python",
   "nbconvert_exporter": "python",
   "pygments_lexer": "ipython3",
   "version": "3.9.13"
  }
 },
 "nbformat": 4,
 "nbformat_minor": 5
}
