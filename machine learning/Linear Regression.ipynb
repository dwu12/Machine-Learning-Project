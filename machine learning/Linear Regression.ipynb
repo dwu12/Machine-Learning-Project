{
 "cells": [
  {
   "cell_type": "code",
   "execution_count": 1,
   "id": "e447c631",
   "metadata": {},
   "outputs": [],
   "source": [
    "import numpy as np"
   ]
  },
  {
   "cell_type": "code",
   "execution_count": null,
   "id": "27f10519",
   "metadata": {},
   "outputs": [],
   "source": [
    "class LinearRegression():\n",
    "    \n",
    "    def __init__(self):\n",
    "        self.learning_rate = 0.01\n",
    "        self.total_iterations = 10000\n",
    "    \n",
    "    def yhat(self, X, w):\n",
    "        yhat = np.dot(w.T, X)\n",
    "        \n",
    "    def loss(self, yhat, y):\n",
    "        L = 1/self.m * np.sum( np.power( (yhat -y), 2))\n",
    "        return L\n",
    "    \n",
    "    def gradient_descent(self, w, X, y, yhat):\n",
    "        dLdw = 2/self.m * np.dot(X, (yhat - y).T)\n",
    "        w = w - self.learning_rate * dLdw\n",
    "        \n",
    "    def main(self, X, y)\n",
    "    "
   ]
  }
 ],
 "metadata": {
  "kernelspec": {
   "display_name": "Python 3 (ipykernel)",
   "language": "python",
   "name": "python3"
  },
  "language_info": {
   "codemirror_mode": {
    "name": "ipython",
    "version": 3
   },
   "file_extension": ".py",
   "mimetype": "text/x-python",
   "name": "python",
   "nbconvert_exporter": "python",
   "pygments_lexer": "ipython3",
   "version": "3.9.13"
  }
 },
 "nbformat": 4,
 "nbformat_minor": 5
}
