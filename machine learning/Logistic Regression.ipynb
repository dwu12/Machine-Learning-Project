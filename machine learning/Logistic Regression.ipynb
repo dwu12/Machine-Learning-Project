{
 "cells": [
  {
   "cell_type": "code",
   "execution_count": 7,
   "id": "7e19ec19",
   "metadata": {},
   "outputs": [],
   "source": [
    "import numpy as np\n",
    "from sklearn.datasets import make_blobs"
   ]
  },
  {
   "cell_type": "code",
   "execution_count": 12,
   "id": "6db5a232",
   "metadata": {},
   "outputs": [],
   "source": [
    "class LogisticRegression():\n",
    "    def __init__(self, X, learning_rate = 0.1, num_iters = 10000):\n",
    "        self.lr = learning_rate\n",
    "        self.num_iters = num_iters\n",
    "        \n",
    "        # m for #traning examples, n for #features\n",
    "        self.m, self.n = X.shape\n",
    "    \n",
    "    def train(self, X, y):\n",
    "        self.weights = np.zeros((self.n,1))\n",
    "        self.bias = 0\n",
    "        \n",
    "        for it in range(self.num_iters + 1):\n",
    "            # calculate hypothesis\n",
    "            \n",
    "            y_predict = self.sigmoid(np.dot(X, self.weights) + self.bias)\n",
    "            \n",
    "            # calculate cost\n",
    "            cost = -1 / self.m * np.sum(y* np.log(y_predict) + (1-y)*np.log(1-y_predict))\n",
    "            \n",
    "            # backprop \n",
    "            dw = 1/ self.m * np.dot(X.T, (y_predict - y))\n",
    "            db = 1/ self.m * np.sum(y_predict - y)\n",
    "            \n",
    "            self.weights -= self.lr *dw\n",
    "            self.bias -= self.lr * db\n",
    "            \n",
    "            if it % 1000 == 0:\n",
    "                print(f'cost after iteration {it}:{cost}')\n",
    "                \n",
    "        return self.weights, self.bias\n",
    "            \n",
    "        \n",
    "    def predict(self, X):\n",
    "        y_predict = self.sigmoid(np.dot(X,self.weights) + self.bias)\n",
    "        y_predict_labels = y_predict > 0.5\n",
    "        \n",
    "        return y_predict_labels\n",
    "        \n",
    "    def sigmoid(self, z):\n",
    "        return 1 / (1 + np.exp(-z))"
   ]
  },
  {
   "cell_type": "code",
   "execution_count": 13,
   "id": "df73d4f2",
   "metadata": {},
   "outputs": [
    {
     "name": "stdout",
     "output_type": "stream",
     "text": [
      "cost after iteration 0:0.6931471805599454\n",
      "cost after iteration 1000:0.12809200983094515\n",
      "cost after iteration 2000:0.09308549837381246\n",
      "cost after iteration 3000:0.07940153481280618\n",
      "cost after iteration 4000:0.07190130291144943\n",
      "cost after iteration 5000:0.06710186247315326\n",
      "cost after iteration 6000:0.0637421163873147\n",
      "cost after iteration 7000:0.06124775532676551\n",
      "cost after iteration 8000:0.059317341704993656\n",
      "cost after iteration 9000:0.05777647046854836\n",
      "cost after iteration 10000:0.05651677767085377\n",
      "Accuracy : 0.981\n"
     ]
    }
   ],
   "source": [
    "\n",
    "\n",
    "X,y = make_blobs(n_samples = 1000, centers = 2)\n",
    "\n",
    "y = y[:, np.newaxis]\n",
    "\n",
    "logreg = LogisticRegression(X)\n",
    "\n",
    "w, b = logreg.train(X,y)\n",
    "\n",
    "y_predict = logreg.predict(X)\n",
    "\n",
    "print(f'Accuracy : {np.sum(y==y_predict)/ X.shape[0]}')"
   ]
  },
  {
   "cell_type": "code",
   "execution_count": null,
   "id": "2511b145",
   "metadata": {},
   "outputs": [],
   "source": []
  }
 ],
 "metadata": {
  "kernelspec": {
   "display_name": "Python 3 (ipykernel)",
   "language": "python",
   "name": "python3"
  },
  "language_info": {
   "codemirror_mode": {
    "name": "ipython",
    "version": 3
   },
   "file_extension": ".py",
   "mimetype": "text/x-python",
   "name": "python",
   "nbconvert_exporter": "python",
   "pygments_lexer": "ipython3",
   "version": "3.9.13"
  }
 },
 "nbformat": 4,
 "nbformat_minor": 5
}
