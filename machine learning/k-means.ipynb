{
 "cells": [
  {
   "cell_type": "code",
   "execution_count": 1,
   "id": "7f5c8590",
   "metadata": {},
   "outputs": [],
   "source": [
    "import numpy as np\n",
    "import matplotlib.pyplot as plt\n",
    "\n",
    "from sklearn.datasets import make_blobs"
   ]
  },
  {
   "cell_type": "code",
   "execution_count": 13,
   "id": "7550fa46",
   "metadata": {},
   "outputs": [],
   "source": [
    "class KMeansClustering():\n",
    "    \n",
    "    def __init__(self, X, num_clusters):\n",
    "        self.K = num_clusters\n",
    "        self.plot_figure = True\n",
    "        self.max_iterations = 100\n",
    "        self.num_example, self.num_features = X.shape\n",
    "    \n",
    "    def initialize_random_centroids(self,X):\n",
    "        centroids = np.zeros((self.K, self.num_features))\n",
    "        \n",
    "        for k in range (self.K):\n",
    "            centroid = X[np.random.choice(range(self.num_example))]\n",
    "            centroids[k] = centroid\n",
    "            \n",
    "        return centroids\n",
    "    \n",
    "    def create_clusters(self, X, centroids):\n",
    "        clusters = [[] for _ in range(self.K)]\n",
    "        # [ [], [] ]\n",
    "        \n",
    "        for point_idx, point in enumerate(X):\n",
    "            closest_centroid = np.argmin(np.sqrt(np.sum((point - centroids)**2, axis = 1)))\n",
    "            clusters[closest_centroid].append(point_idx)\n",
    "            \n",
    "        return clusters\n",
    "            \n",
    "    \n",
    "    def calculate_new_centroids(self, clusters, X):\n",
    "        centroids = np.zeros((self.K, self.num_features))\n",
    "        \n",
    "        for idx, cluster in enumerate(clusters):\n",
    "            new_centroid = np.mean(X[cluster], axis = 0)\n",
    "            centroids[idx] = new_centroid\n",
    "            \n",
    "        return centroids\n",
    "    \n",
    "    def predict_cluster(self, clusters, X):\n",
    "        y_pred = np.zeros(self.num_examples)\n",
    "        \n",
    "        for cluster_idx, cluster in enumerate(clusters):\n",
    "            for sample_idx in cluster:\n",
    "                y_pred[sample_idx] = cluster_idx\n",
    "                \n",
    "        return y_pred\n",
    "    \n",
    "    def plot_fig(self, X, y):\n",
    "        plt.scatter(X[:,0],X[:,1], c = y, s = 40, cmap = plt.cm.Spectral)\n",
    "    \n",
    "    def fit(self, X):\n",
    "        centroids = self.initialize_random_centroids(X)\n",
    "        \n",
    "        for it in range(self.max_iterations):\n",
    "            clusters = self.create_clusters(X, centroids)\n",
    "            previous_centroids = centroids\n",
    "            \n",
    "            centroids = calculate_new_centroids(clusters, X)\n",
    "            \n",
    "            diff = centroids - previous_centroids\n",
    "            \n",
    "            if not(diff.any()):\n",
    "                break\n",
    "                \n",
    "        y_pred = self.predict_cluster(clusters, X)\n",
    "        if self.plot_figure:\n",
    "            self.plot_fig(X, y_pred)\n",
    "            \n",
    "        return y_pred"
   ]
  },
  {
   "cell_type": "code",
   "execution_count": 14,
   "id": "6b84f1ef",
   "metadata": {},
   "outputs": [
    {
     "ename": "NameError",
     "evalue": "name 'calculate_new_centroids' is not defined",
     "output_type": "error",
     "traceback": [
      "\u001b[0;31m---------------------------------------------------------------------------\u001b[0m",
      "\u001b[0;31mNameError\u001b[0m                                 Traceback (most recent call last)",
      "Cell \u001b[0;32mIn [14], line 7\u001b[0m\n\u001b[1;32m      4\u001b[0m X, _ \u001b[38;5;241m=\u001b[39m make_blobs(n_samples \u001b[38;5;241m=\u001b[39m \u001b[38;5;241m1000\u001b[39m, n_features \u001b[38;5;241m=\u001b[39m \u001b[38;5;241m2\u001b[39m, centers \u001b[38;5;241m=\u001b[39m num_clusters)\n\u001b[1;32m      6\u001b[0m Kmeans \u001b[38;5;241m=\u001b[39m KMeansClustering(X, num_clusters)\n\u001b[0;32m----> 7\u001b[0m y_pred \u001b[38;5;241m=\u001b[39m \u001b[43mKmeans\u001b[49m\u001b[38;5;241;43m.\u001b[39;49m\u001b[43mfit\u001b[49m\u001b[43m(\u001b[49m\u001b[43mX\u001b[49m\u001b[43m)\u001b[49m\n",
      "Cell \u001b[0;32mIn [13], line 57\u001b[0m, in \u001b[0;36mKMeansClustering.fit\u001b[0;34m(self, X)\u001b[0m\n\u001b[1;32m     54\u001b[0m clusters \u001b[38;5;241m=\u001b[39m \u001b[38;5;28mself\u001b[39m\u001b[38;5;241m.\u001b[39mcreate_clusters(X, centroids)\n\u001b[1;32m     55\u001b[0m previous_centroids \u001b[38;5;241m=\u001b[39m centroids\n\u001b[0;32m---> 57\u001b[0m centroids \u001b[38;5;241m=\u001b[39m \u001b[43mcalculate_new_centroids\u001b[49m(clusters, X)\n\u001b[1;32m     59\u001b[0m diff \u001b[38;5;241m=\u001b[39m centroids \u001b[38;5;241m-\u001b[39m previous_centroids\n\u001b[1;32m     61\u001b[0m \u001b[38;5;28;01mif\u001b[39;00m \u001b[38;5;129;01mnot\u001b[39;00m(diff\u001b[38;5;241m.\u001b[39many()):\n",
      "\u001b[0;31mNameError\u001b[0m: name 'calculate_new_centroids' is not defined"
     ]
    }
   ],
   "source": [
    "np.random.seed(10)\n",
    "num_clusters = 3\n",
    "\n",
    "X, _ = make_blobs(n_samples = 1000, n_features = 2, centers = num_clusters)\n",
    "\n",
    "Kmeans = KMeansClustering(X, num_clusters)\n",
    "y_pred = Kmeans.fit(X)"
   ]
  },
  {
   "cell_type": "code",
   "execution_count": null,
   "id": "f78cbe5b",
   "metadata": {},
   "outputs": [],
   "source": []
  }
 ],
 "metadata": {
  "kernelspec": {
   "display_name": "Python 3.9 (pytorch)",
   "language": "python",
   "name": "pytorch"
  },
  "language_info": {
   "codemirror_mode": {
    "name": "ipython",
    "version": 3
   },
   "file_extension": ".py",
   "mimetype": "text/x-python",
   "name": "python",
   "nbconvert_exporter": "python",
   "pygments_lexer": "ipython3",
   "version": "3.9.13"
  }
 },
 "nbformat": 4,
 "nbformat_minor": 5
}
