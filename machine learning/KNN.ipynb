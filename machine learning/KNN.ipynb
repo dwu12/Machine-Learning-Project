{
 "cells": [
  {
   "cell_type": "code",
   "execution_count": 1,
   "id": "f22484a1",
   "metadata": {},
   "outputs": [],
   "source": [
    "import numpy as np"
   ]
  },
  {
   "cell_type": "code",
   "execution_count": 71,
   "id": "07b5cb51",
   "metadata": {},
   "outputs": [],
   "source": [
    "class KNearestNeighbor():\n",
    "    def __init__(self, k):\n",
    "        self.k = k\n",
    "        self.eps = 1e-8\n",
    "    \n",
    "    def train(self, X, y):\n",
    "        self.X_train = X\n",
    "        self.y_train = y\n",
    "    \n",
    "    def predict(self, X_test, num_loops = 2):\n",
    "        if num_loops == 2:\n",
    "            distances = self.compute_distance_two_loops(X_test)\n",
    "        elif num_loops == 1:\n",
    "            distances = self.compute_distance_one_loops(X_test)\n",
    "        else:\n",
    "            distances = self.compute_distance_verctorized(X_test)\n",
    "            \n",
    "        return self.predict_labels(distances)\n",
    "    \n",
    "    def compute_distance_verctorized(self, X_test):\n",
    "        X_test_squared = np.sum(X_test ** 2, axis=1, keepdims=True)\n",
    "        X_train_squared = np.sum(self.X_train ** 2, axis=1, keepdims=True)\n",
    "        two_X_test_X_train = np.dot(X_test, self.X_train.T)\n",
    "\n",
    "        # (Taking sqrt is not necessary: min distance won't change since sqrt is monotone)\n",
    "        return np.sqrt(\n",
    "            self.eps + X_test_squared - 2 * two_X_test_X_train + X_train_squared.T\n",
    "        )\n",
    "    \n",
    "    def compute_distance_one_loops(self, X_test):\n",
    "        num_test = X_test.shape[0]\n",
    "        num_train = self.X_train.shape[0]\n",
    "        distances = np.zeros((num_test,num_train))\n",
    "        \n",
    "        for i in range(num_test):\n",
    "            distances[i,:] = np.sqrt( np.sum((self.X_train - X_test[i,:])**2,  axis = 1) )\n",
    "        \n",
    "        return distances\n",
    "            \n",
    "    \n",
    "    def compute_distance_two_loops(self, X_test):\n",
    "        # Naive, inefficient way\n",
    "        num_test = X_test.shape[0]\n",
    "        num_train = self.X_train.shape[0]\n",
    "        \n",
    "        distances = np.zeros((num_test,num_train))\n",
    "        \n",
    "        for i in range(num_test):\n",
    "            for j in range(num_train):\n",
    "                distances[i,j] = np.sqrt(np.sum((X_test[i,:] - self.X_train[j,:]) **2))\n",
    "                \n",
    "        return distances\n",
    "    \n",
    "    def predict_labels(self, distances):\n",
    "        num_test = distances.shape[0]\n",
    "        y_pred = np.zeros(num_test)\n",
    "        \n",
    "        for i in range(num_test):\n",
    "            y_indices = np.argsort(distances[i,:])\n",
    "            k_closest_classes = self.y_train[y_indices[:self.k]].astype(int)\n",
    "            y_pred[i] = np.argmax(np.bincount(k_closest_classes))\n",
    "            \n",
    "            \n",
    "        return y_pred\n",
    "        \n",
    "        \n",
    "        "
   ]
  },
  {
   "cell_type": "code",
   "execution_count": 72,
   "id": "32b6fd77",
   "metadata": {},
   "outputs": [
    {
     "name": "stdout",
     "output_type": "stream",
     "text": [
      "Accuracy: 1.0\n"
     ]
    }
   ],
   "source": [
    "X = np.array([[1, 1], [3, 1], [1, 4], [2, 4], [3, 3], [5, 1]])\n",
    "y = np.array([0, 0, 0, 1, 1, 1])\n",
    "\n",
    "KNN = KNearestNeighbor(k=1)\n",
    "KNN.train(X, y)\n",
    "y_pred = KNN.predict(X, num_loops = 0)\n",
    "print(f\"Accuracy: {sum(y_pred == y) / y.shape[0]}\")"
   ]
  },
  {
   "cell_type": "code",
   "execution_count": null,
   "id": "33924528",
   "metadata": {},
   "outputs": [],
   "source": []
  }
 ],
 "metadata": {
  "kernelspec": {
   "display_name": "Python 3 (ipykernel)",
   "language": "python",
   "name": "python3"
  },
  "language_info": {
   "codemirror_mode": {
    "name": "ipython",
    "version": 3
   },
   "file_extension": ".py",
   "mimetype": "text/x-python",
   "name": "python",
   "nbconvert_exporter": "python",
   "pygments_lexer": "ipython3",
   "version": "3.9.13"
  }
 },
 "nbformat": 4,
 "nbformat_minor": 5
}
