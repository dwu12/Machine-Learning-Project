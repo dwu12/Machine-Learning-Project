{
 "cells": [
  {
   "cell_type": "code",
   "execution_count": 1,
   "metadata": {},
   "outputs": [],
   "source": [
    "import torch\n",
    "import torch.nn as nn\n",
    "from torchinfo import summary"
   ]
  },
  {
   "cell_type": "code",
   "execution_count": 2,
   "metadata": {},
   "outputs": [
    {
     "data": {
      "text/plain": [
       "'cpu'"
      ]
     },
     "execution_count": 2,
     "metadata": {},
     "output_type": "execute_result"
    }
   ],
   "source": [
    "device = 'cuda' if torch.cuda.is_available() else 'cpu'\n",
    "device"
   ]
  },
  {
   "cell_type": "code",
   "execution_count": 3,
   "metadata": {},
   "outputs": [],
   "source": [
    "class PatchEmbedding(nn.Module):\n",
    "    def __init__(self, \n",
    "                 input_channel = 3, \n",
    "                 patch_size = 16,\n",
    "                 embedding_size = 768):\n",
    "        super().__init__()\n",
    "\n",
    "        self.patch_size = patch_size\n",
    "        # create a layer to convert an image into patches\n",
    "\n",
    "        self.patcher = nn.Conv2d(in_channels= input_channel,\n",
    "                                 out_channels= embedding_size,\n",
    "                                 kernel_size = patch_size,\n",
    "                                 stride = patch_size, \n",
    "                                 padding = 0)\n",
    "        \n",
    "        self.flatten = nn.Flatten(start_dim  = 2, end_dim = 3)\n",
    "\n",
    "    def forward(self, x):\n",
    "        # x shape: [batch_size, 3, 224, 224]\n",
    "        image_resolution = x.shape[-1]\n",
    "        assert image_resolution % self.patch_size == 0, f\"Input image size must be divisble by patch size\"\n",
    "\n",
    "        x = self.patcher(x) # [batch_size, 768, 14, 14]\n",
    "        x = self.flatten(x) # [batch_size, 768, 196]\n",
    "        \n",
    "        return x.permute(0, 2, 1) # [batch_size, 196, 768]\n",
    "    \n",
    "\n",
    "image = torch.randn((32,3,224,224))\n",
    "model = PatchEmbedding()\n",
    "\n",
    "assert model(image).shape == (32, 196, 768)\n"
   ]
  },
  {
   "cell_type": "code",
   "execution_count": 4,
   "metadata": {},
   "outputs": [],
   "source": [
    "transformer_encoder_layer = nn.TransformerEncoderLayer(d_model = 768,\n",
    "                                                       nhead = 12,\n",
    "                                                       dim_feedforward= 3072,\n",
    "                                                       dropout=0.1,\n",
    "                                                       activation='gelu',\n",
    "                                                       batch_first=True,\n",
    "                                                       norm_first=True)\n",
    "\n",
    "transformer_encoder = nn.TransformerEncoder(transformer_encoder_layer, num_layers= 12)"
   ]
  },
  {
   "cell_type": "code",
   "execution_count": 5,
   "metadata": {},
   "outputs": [],
   "source": [
    "class ViT(nn.Module):\n",
    "    def __init__(self, \n",
    "                 img_size = 224, \n",
    "                 num_channels = 3, \n",
    "                 patch_size = 16, \n",
    "                 embedding_dim = 768,\n",
    "                 dropout = 0.1,\n",
    "                 mlp_size = 3072,\n",
    "                 num_transformer_layer = 12, \n",
    "                 num_heads = 12,\n",
    "                 num_classes = 1000):\n",
    "        super().__init__()\n",
    "\n",
    "        assert img_size % patch_size == 0, 'Image size must be divisible by patch size'\n",
    "\n",
    "        ## create patch embedding \n",
    "        self.path_embedding = PatchEmbedding(input_channel = num_channels,\n",
    "                                             patch_size= patch_size,\n",
    "                                             embedding_size= embedding_dim)\n",
    "        \n",
    "        ## create class token \n",
    "        self.class_token = nn.Parameter(torch.randn((1,1,embedding_dim), requires_grad= True))\n",
    "\n",
    "        ## create positional embedding\n",
    "        num_patches = (img_size * img_size) // (patch_size**2) # N  = HW / P^2\n",
    "\n",
    "        self.positional_embedding = nn.Parameter(torch.randn(1, num_patches + 1, embedding_dim))\n",
    "        self.embedding_dropout = nn.Dropout(dropout)\n",
    "\n",
    "        ## create encoder layer\n",
    "\n",
    "        self.transformer_encoder = nn.TransformerEncoder(encoder_layer = nn.TransformerEncoderLayer(d_model = embedding_dim,\n",
    "                                                                                                           nhead = num_heads,\n",
    "                                                                                                           dim_feedforward= mlp_size,\n",
    "                                                                                                           dropout= dropout,\n",
    "                                                                                                           activation='gelu',\n",
    "                                                                                                           batch_first=True,\n",
    "                                                                                                           norm_first=True), \n",
    "                                                    num_layers= num_transformer_layer)\n",
    "        \n",
    "        ## create MLP head\n",
    "        self.mlp_head = nn.Sequential(\n",
    "            nn.LayerNorm(embedding_dim),\n",
    "            nn.Linear(embedding_dim, num_classes)\n",
    "        )\n",
    "\n",
    "    def forward(self, x):\n",
    "\n",
    "        # x shape: [batch_size, 3, 224, 224]\n",
    "        batch_size = x.shape[0]\n",
    "\n",
    "        x = self.path_embedding(x) # [batch_size, 196, 768]\n",
    "\n",
    "        class_token = self.class_token.expand(batch_size, -1, -1) #[batch_size, 1, 768]\n",
    "\n",
    "        x = torch.cat( (class_token, x), dim = 1) # [batch_size, 197, 768]\n",
    "\n",
    "        x = self.positional_embedding + x # [batch_size, 197, 768]\n",
    "\n",
    "        x = self.embedding_dropout(x)     \n",
    "\n",
    "        x = self.transformer_encoder(x)   # [batch_size, 197, 768]\n",
    "        \n",
    "        x = self.mlp_head(x[:, 0])        # x[:, 0].shape = (batch_size, 768)\n",
    "\n",
    "        return x                          # [batch_size, 1000]\n",
    "    \n",
    "\n",
    "model = ViT()\n",
    "img = torch.randn((32, 3, 224, 224))\n",
    "assert model(img).shape == (32, 1000)"
   ]
  },
  {
   "cell_type": "code",
   "execution_count": 6,
   "metadata": {},
   "outputs": [
    {
     "data": {
      "text/plain": [
       "==================================================================================================================================\n",
       "Layer (type (var_name))                            Input Shape          Output Shape         Param #              Trainable\n",
       "==================================================================================================================================\n",
       "ViT (ViT)                                          [1, 3, 224, 224]     [1, 1000]            152,064              True\n",
       "├─PatchEmbedding (path_embedding)                  [1, 3, 224, 224]     [1, 196, 768]        --                   True\n",
       "│    └─Conv2d (patcher)                            [1, 3, 224, 224]     [1, 768, 14, 14]     590,592              True\n",
       "│    └─Flatten (flatten)                           [1, 768, 14, 14]     [1, 768, 196]        --                   --\n",
       "├─Dropout (embedding_dropout)                      [1, 197, 768]        [1, 197, 768]        --                   --\n",
       "├─TransformerEncoder (transformer_encoder)         [1, 197, 768]        [1, 197, 768]        --                   True\n",
       "│    └─ModuleList (layers)                         --                   --                   --                   True\n",
       "│    │    └─TransformerEncoderLayer (0)            [1, 197, 768]        [1, 197, 768]        7,087,872            True\n",
       "│    │    └─TransformerEncoderLayer (1)            [1, 197, 768]        [1, 197, 768]        7,087,872            True\n",
       "│    │    └─TransformerEncoderLayer (2)            [1, 197, 768]        [1, 197, 768]        7,087,872            True\n",
       "│    │    └─TransformerEncoderLayer (3)            [1, 197, 768]        [1, 197, 768]        7,087,872            True\n",
       "│    │    └─TransformerEncoderLayer (4)            [1, 197, 768]        [1, 197, 768]        7,087,872            True\n",
       "│    │    └─TransformerEncoderLayer (5)            [1, 197, 768]        [1, 197, 768]        7,087,872            True\n",
       "│    │    └─TransformerEncoderLayer (6)            [1, 197, 768]        [1, 197, 768]        7,087,872            True\n",
       "│    │    └─TransformerEncoderLayer (7)            [1, 197, 768]        [1, 197, 768]        7,087,872            True\n",
       "│    │    └─TransformerEncoderLayer (8)            [1, 197, 768]        [1, 197, 768]        7,087,872            True\n",
       "│    │    └─TransformerEncoderLayer (9)            [1, 197, 768]        [1, 197, 768]        7,087,872            True\n",
       "│    │    └─TransformerEncoderLayer (10)           [1, 197, 768]        [1, 197, 768]        7,087,872            True\n",
       "│    │    └─TransformerEncoderLayer (11)           [1, 197, 768]        [1, 197, 768]        7,087,872            True\n",
       "├─Sequential (mlp_head)                            [1, 768]             [1, 1000]            --                   True\n",
       "│    └─LayerNorm (0)                               [1, 768]             [1, 768]             1,536                True\n",
       "│    └─Linear (1)                                  [1, 768]             [1, 1000]            769,000              True\n",
       "==================================================================================================================================\n",
       "Total params: 86,567,656\n",
       "Trainable params: 86,567,656\n",
       "Non-trainable params: 0\n",
       "Total mult-adds (M): 116.53\n",
       "==================================================================================================================================\n",
       "Input size (MB): 0.60\n",
       "Forward/backward pass size (MB): 1.22\n",
       "Params size (MB): 5.44\n",
       "Estimated Total Size (MB): 7.27\n",
       "=================================================================================================================================="
      ]
     },
     "execution_count": 6,
     "metadata": {},
     "output_type": "execute_result"
    }
   ],
   "source": [
    "summary(model=model, \n",
    "        input_size=(1, 3, 224, 224), # (batch_size, color_channels, height, width)\n",
    "        # col_names=[\"input_size\"], # uncomment for smaller output\n",
    "        col_names=[\"input_size\", \"output_size\", \"num_params\", \"trainable\"],\n",
    "        col_width=20,\n",
    "        row_settings=[\"var_names\"]\n",
    ")"
   ]
  },
  {
   "cell_type": "code",
   "execution_count": null,
   "metadata": {},
   "outputs": [],
   "source": []
  }
 ],
 "metadata": {
  "kernelspec": {
   "display_name": "torch",
   "language": "python",
   "name": "python3"
  },
  "language_info": {
   "codemirror_mode": {
    "name": "ipython",
    "version": 3
   },
   "file_extension": ".py",
   "mimetype": "text/x-python",
   "name": "python",
   "nbconvert_exporter": "python",
   "pygments_lexer": "ipython3",
   "version": "3.9.13"
  },
  "orig_nbformat": 4
 },
 "nbformat": 4,
 "nbformat_minor": 2
}
